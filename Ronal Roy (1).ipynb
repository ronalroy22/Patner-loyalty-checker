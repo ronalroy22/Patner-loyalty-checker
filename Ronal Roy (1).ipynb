{
 "cells": [
  {
   "cell_type": "code",
   "execution_count": 1,
   "id": "8d64a9ba-e2d7-4319-8919-5618119da6e3",
   "metadata": {},
   "outputs": [
    {
     "name": "stdout",
     "output_type": "stream",
     "text": [
      "Collecting googlesearch-python\n",
      "  Downloading googlesearch_python-1.3.0-py3-none-any.whl.metadata (3.4 kB)\n",
      "Requirement already satisfied: beautifulsoup4>=4.9 in /opt/anaconda3/lib/python3.12/site-packages (from googlesearch-python) (4.12.3)\n",
      "Requirement already satisfied: requests>=2.20 in /opt/anaconda3/lib/python3.12/site-packages (from googlesearch-python) (2.32.3)\n",
      "Requirement already satisfied: soupsieve>1.2 in /opt/anaconda3/lib/python3.12/site-packages (from beautifulsoup4>=4.9->googlesearch-python) (2.5)\n",
      "Requirement already satisfied: charset-normalizer<4,>=2 in /opt/anaconda3/lib/python3.12/site-packages (from requests>=2.20->googlesearch-python) (3.3.2)\n",
      "Requirement already satisfied: idna<4,>=2.5 in /opt/anaconda3/lib/python3.12/site-packages (from requests>=2.20->googlesearch-python) (3.7)\n",
      "Requirement already satisfied: urllib3<3,>=1.21.1 in /opt/anaconda3/lib/python3.12/site-packages (from requests>=2.20->googlesearch-python) (2.2.3)\n",
      "Requirement already satisfied: certifi>=2017.4.17 in /opt/anaconda3/lib/python3.12/site-packages (from requests>=2.20->googlesearch-python) (2024.12.14)\n",
      "Downloading googlesearch_python-1.3.0-py3-none-any.whl (5.6 kB)\n",
      "Installing collected packages: googlesearch-python\n",
      "Successfully installed googlesearch-python-1.3.0\n",
      "Note: you may need to restart the kernel to use updated packages.\n"
     ]
    }
   ],
   "source": [
    "pip install googlesearch-python"
   ]
  },
  {
   "cell_type": "code",
   "execution_count": 40,
   "id": "3a18b97c-6547-4ee7-8be6-84f383ed8a4a",
   "metadata": {},
   "outputs": [
    {
     "name": "stdin",
     "output_type": "stream",
     "text": [
      "Enter partner's name: alex\n"
     ]
    },
    {
     "name": "stdout",
     "output_type": "stream",
     "text": [
      "                                      Links\n",
      "0                  https://tinder.com/@alex\n",
      "1      https://tinder.com/@alext2po?lang=hi\n",
      "2                https://tinder.com/@argusc\n",
      "3      https://tinder.com/@alekosss?lang=te\n",
      "4           https://tinder.com/@Real_alex_c\n",
      "5     https://tinder.com/@alex12391?lang=bn\n",
      "6      https://tinder.com/@alekosss?lang=bn\n",
      "7  https://tinder.com/@alex__yeager?lang=ru\n",
      "8     https://tinder.com/@alexxlubo?lang=uk\n",
      "9     https://tinder.com/@alex12391?lang=ta\n",
      "Results saved to /Users/ronalroy/Desktop/search_results.txt\n"
     ]
    }
   ],
   "source": [
    "from googlesearch import search\n",
    "import pandas as pd\n",
    "import os\n",
    "\n",
    "def google_site_search(query, site, num_results=10):\n",
    "    search_query = f\"{query} site:{site}\"\n",
    "    results = []\n",
    "    \n",
    "    for url in search(search_query, num_results=num_results):\n",
    "        results.append(url)\n",
    "    \n",
    "    return results\n",
    "\n",
    "site = \"https://tinder.com\"\n",
    "query = input(\"Enter partner's name:\")\n",
    "search_results = google_site_search(query, site)\n",
    "if search_results:\n",
    "    df = pd.DataFrame(search_results, columns=[\"Links\"])\n",
    "    print(df)\n",
    "    file_path = os.path.expanduser(\"~/Desktop/search_results.txt\")\n",
    "    df.to_csv(file_path, index=False, header=False)\n",
    "    print(f\"Results saved to {file_path}\")\n",
    "else:\n",
    "    print(\"No profile found\")"
   ]
  },
  {
   "cell_type": "code",
   "execution_count": null,
   "id": "09afe1e3-aab1-4df0-b64c-2c14345ff07b",
   "metadata": {},
   "outputs": [],
   "source": []
  }
 ],
 "metadata": {
  "kernelspec": {
   "display_name": "Python [conda env:base] *",
   "language": "python",
   "name": "conda-base-py"
  },
  "language_info": {
   "codemirror_mode": {
    "name": "ipython",
    "version": 3
   },
   "file_extension": ".py",
   "mimetype": "text/x-python",
   "name": "python",
   "nbconvert_exporter": "python",
   "pygments_lexer": "ipython3",
   "version": "3.12.7"
  }
 },
 "nbformat": 4,
 "nbformat_minor": 5
}
